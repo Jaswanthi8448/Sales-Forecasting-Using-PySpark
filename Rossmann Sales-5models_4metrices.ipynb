{
 "cells": [
  {
   "cell_type": "code",
   "execution_count": 1,
   "id": "8c8eda2e",
   "metadata": {},
   "outputs": [],
   "source": [
    "import pyspark\n",
    "from pyspark.sql import SparkSession"
   ]
  },
  {
   "cell_type": "code",
   "execution_count": 2,
   "id": "6fec1e47",
   "metadata": {},
   "outputs": [],
   "source": [
    "spark = SparkSession.builder.getOrCreate()"
   ]
  },
  {
   "cell_type": "code",
   "execution_count": 3,
   "id": "abeedc77",
   "metadata": {},
   "outputs": [
    {
     "data": {
      "text/html": [
       "\n",
       "            <div>\n",
       "                <p><b>SparkSession - in-memory</b></p>\n",
       "                \n",
       "        <div>\n",
       "            <p><b>SparkContext</b></p>\n",
       "\n",
       "            <p><a href=\"http://172.31.17.246:4040\">Spark UI</a></p>\n",
       "\n",
       "            <dl>\n",
       "              <dt>Version</dt>\n",
       "                <dd><code>v3.4.1</code></dd>\n",
       "              <dt>Master</dt>\n",
       "                <dd><code>local[*]</code></dd>\n",
       "              <dt>AppName</dt>\n",
       "                <dd><code>pyspark-shell</code></dd>\n",
       "            </dl>\n",
       "        </div>\n",
       "        \n",
       "            </div>\n",
       "        "
      ],
      "text/plain": [
       "<pyspark.sql.session.SparkSession at 0x1cf08792e80>"
      ]
     },
     "execution_count": 3,
     "metadata": {},
     "output_type": "execute_result"
    }
   ],
   "source": [
    "spark"
   ]
  },
  {
   "cell_type": "code",
   "execution_count": 5,
   "id": "a9e8641b",
   "metadata": {},
   "outputs": [
    {
     "name": "stdout",
     "output_type": "stream",
     "text": [
      "+-----+---------+----------+-----+---------+----+-----+------------+-------------+\n",
      "|Store|DayOfWeek|      Date|Sales|Customers|Open|Promo|StateHoliday|SchoolHoliday|\n",
      "+-----+---------+----------+-----+---------+----+-----+------------+-------------+\n",
      "|    1|        5|2015-07-31| 5263|      555|   1|    1|           0|            1|\n",
      "|    2|        5|2015-07-31| 6064|      625|   1|    1|           0|            1|\n",
      "|    3|        5|2015-07-31| 8314|      821|   1|    1|           0|            1|\n",
      "|    4|        5|2015-07-31|13995|     1498|   1|    1|           0|            1|\n",
      "|    5|        5|2015-07-31| 4822|      559|   1|    1|           0|            1|\n",
      "|    6|        5|2015-07-31| 5651|      589|   1|    1|           0|            1|\n",
      "|    7|        5|2015-07-31|15344|     1414|   1|    1|           0|            1|\n",
      "|    8|        5|2015-07-31| 8492|      833|   1|    1|           0|            1|\n",
      "|    9|        5|2015-07-31| 8565|      687|   1|    1|           0|            1|\n",
      "|   10|        5|2015-07-31| 7185|      681|   1|    1|           0|            1|\n",
      "|   11|        5|2015-07-31|10457|     1236|   1|    1|           0|            1|\n",
      "|   12|        5|2015-07-31| 8959|      962|   1|    1|           0|            1|\n",
      "|   13|        5|2015-07-31| 8821|      568|   1|    1|           0|            0|\n",
      "|   14|        5|2015-07-31| 6544|      710|   1|    1|           0|            1|\n",
      "|   15|        5|2015-07-31| 9191|      766|   1|    1|           0|            1|\n",
      "|   16|        5|2015-07-31|10231|      979|   1|    1|           0|            1|\n",
      "|   17|        5|2015-07-31| 8430|      946|   1|    1|           0|            1|\n",
      "|   18|        5|2015-07-31|10071|      936|   1|    1|           0|            1|\n",
      "|   19|        5|2015-07-31| 8234|      718|   1|    1|           0|            1|\n",
      "|   20|        5|2015-07-31| 9593|      974|   1|    1|           0|            0|\n",
      "+-----+---------+----------+-----+---------+----+-----+------------+-------------+\n",
      "only showing top 20 rows\n",
      "\n"
     ]
    }
   ],
   "source": [
    "df= spark.read.csv(\"C:\\\\Users\\\\HP\\\\Downloads\\\\Rossmann Sales\\\\train.csv\",inferSchema=True,header=True)\n",
    "df.show()"
   ]
  },
  {
   "cell_type": "code",
   "execution_count": 6,
   "id": "cf90e06a",
   "metadata": {},
   "outputs": [
    {
     "name": "stdout",
     "output_type": "stream",
     "text": [
      "root\n",
      " |-- Store: integer (nullable = true)\n",
      " |-- DayOfWeek: integer (nullable = true)\n",
      " |-- Date: date (nullable = true)\n",
      " |-- Sales: integer (nullable = true)\n",
      " |-- Customers: integer (nullable = true)\n",
      " |-- Open: integer (nullable = true)\n",
      " |-- Promo: integer (nullable = true)\n",
      " |-- StateHoliday: string (nullable = true)\n",
      " |-- SchoolHoliday: integer (nullable = true)\n",
      "\n"
     ]
    }
   ],
   "source": [
    "df.printSchema()"
   ]
  },
  {
   "cell_type": "code",
   "execution_count": 7,
   "id": "ac308f87",
   "metadata": {},
   "outputs": [],
   "source": [
    "from pyspark.sql import SparkSession\n",
    "from pyspark.sql.functions import year, month, dayofmonth\n",
    "from pyspark.ml.feature import VectorAssembler\n",
    "from pyspark.ml.regression import LinearRegression\n",
    "from pyspark.ml.evaluation import RegressionEvaluator\n",
    "from pyspark.ml import Pipeline"
   ]
  },
  {
   "cell_type": "markdown",
   "id": "b784d731",
   "metadata": {},
   "source": [
    "Date to Year,Month and Date"
   ]
  },
  {
   "cell_type": "code",
   "execution_count": 8,
   "id": "cfc6440c",
   "metadata": {},
   "outputs": [
    {
     "name": "stdout",
     "output_type": "stream",
     "text": [
      "Transformed DataFrame:\n",
      "+-----+---------+----+-----+---+-----+---------+----+-----+------------+-------------+\n",
      "|Store|DayOfWeek|Year|Month|Day|Sales|Customers|Open|Promo|StateHoliday|SchoolHoliday|\n",
      "+-----+---------+----+-----+---+-----+---------+----+-----+------------+-------------+\n",
      "|    1|        5|2015|    7| 31| 5263|      555|   1|    1|           0|            1|\n",
      "|    2|        5|2015|    7| 31| 6064|      625|   1|    1|           0|            1|\n",
      "|    3|        5|2015|    7| 31| 8314|      821|   1|    1|           0|            1|\n",
      "|    4|        5|2015|    7| 31|13995|     1498|   1|    1|           0|            1|\n",
      "|    5|        5|2015|    7| 31| 4822|      559|   1|    1|           0|            1|\n",
      "|    6|        5|2015|    7| 31| 5651|      589|   1|    1|           0|            1|\n",
      "|    7|        5|2015|    7| 31|15344|     1414|   1|    1|           0|            1|\n",
      "|    8|        5|2015|    7| 31| 8492|      833|   1|    1|           0|            1|\n",
      "|    9|        5|2015|    7| 31| 8565|      687|   1|    1|           0|            1|\n",
      "|   10|        5|2015|    7| 31| 7185|      681|   1|    1|           0|            1|\n",
      "|   11|        5|2015|    7| 31|10457|     1236|   1|    1|           0|            1|\n",
      "|   12|        5|2015|    7| 31| 8959|      962|   1|    1|           0|            1|\n",
      "|   13|        5|2015|    7| 31| 8821|      568|   1|    1|           0|            0|\n",
      "|   14|        5|2015|    7| 31| 6544|      710|   1|    1|           0|            1|\n",
      "|   15|        5|2015|    7| 31| 9191|      766|   1|    1|           0|            1|\n",
      "|   16|        5|2015|    7| 31|10231|      979|   1|    1|           0|            1|\n",
      "|   17|        5|2015|    7| 31| 8430|      946|   1|    1|           0|            1|\n",
      "|   18|        5|2015|    7| 31|10071|      936|   1|    1|           0|            1|\n",
      "|   19|        5|2015|    7| 31| 8234|      718|   1|    1|           0|            1|\n",
      "|   20|        5|2015|    7| 31| 9593|      974|   1|    1|           0|            0|\n",
      "+-----+---------+----+-----+---+-----+---------+----+-----+------------+-------------+\n",
      "only showing top 20 rows\n",
      "\n"
     ]
    }
   ],
   "source": [
    "df = df.withColumn(\"Date\", df[\"Date\"].cast(\"timestamp\"))\n",
    "\n",
    "# Extract year, month, and day as new columns from Date\n",
    "df = df.withColumn(\"Year\", year(\"Date\"))\n",
    "df = df.withColumn(\"Month\", month(\"Date\"))\n",
    "df = df.withColumn(\"Day\", dayofmonth(\"Date\"))\n",
    "\n",
    "df = df.select(\"Store\", \"DayOfWeek\", \"Year\", \"Month\", \"Day\", \"Sales\", \"Customers\",\"Open\",\"Promo\",\"StateHoliday\",\"SchoolHoliday\")\n",
    "\n",
    "print(\"Transformed DataFrame:\")\n",
    "df.show()\n"
   ]
  },
  {
   "cell_type": "markdown",
   "id": "6f017ce8",
   "metadata": {},
   "source": [
    "String to Int conversion"
   ]
  },
  {
   "cell_type": "code",
   "execution_count": 9,
   "id": "cb4004b0",
   "metadata": {},
   "outputs": [
    {
     "name": "stdout",
     "output_type": "stream",
     "text": [
      "+-----+---------+----+-----+---+-----+---------+----+-----+------------+-------------+\n",
      "|Store|DayOfWeek|Year|Month|Day|Sales|Customers|Open|Promo|StateHoliday|SchoolHoliday|\n",
      "+-----+---------+----+-----+---+-----+---------+----+-----+------------+-------------+\n",
      "|    1|        5|2015|    7| 31| 5263|      555|   1|    1|           0|            1|\n",
      "|    2|        5|2015|    7| 31| 6064|      625|   1|    1|           0|            1|\n",
      "|    3|        5|2015|    7| 31| 8314|      821|   1|    1|           0|            1|\n",
      "|    4|        5|2015|    7| 31|13995|     1498|   1|    1|           0|            1|\n",
      "|    5|        5|2015|    7| 31| 4822|      559|   1|    1|           0|            1|\n",
      "|    6|        5|2015|    7| 31| 5651|      589|   1|    1|           0|            1|\n",
      "|    7|        5|2015|    7| 31|15344|     1414|   1|    1|           0|            1|\n",
      "|    8|        5|2015|    7| 31| 8492|      833|   1|    1|           0|            1|\n",
      "|    9|        5|2015|    7| 31| 8565|      687|   1|    1|           0|            1|\n",
      "|   10|        5|2015|    7| 31| 7185|      681|   1|    1|           0|            1|\n",
      "|   11|        5|2015|    7| 31|10457|     1236|   1|    1|           0|            1|\n",
      "|   12|        5|2015|    7| 31| 8959|      962|   1|    1|           0|            1|\n",
      "|   13|        5|2015|    7| 31| 8821|      568|   1|    1|           0|            0|\n",
      "|   14|        5|2015|    7| 31| 6544|      710|   1|    1|           0|            1|\n",
      "|   15|        5|2015|    7| 31| 9191|      766|   1|    1|           0|            1|\n",
      "|   16|        5|2015|    7| 31|10231|      979|   1|    1|           0|            1|\n",
      "|   17|        5|2015|    7| 31| 8430|      946|   1|    1|           0|            1|\n",
      "|   18|        5|2015|    7| 31|10071|      936|   1|    1|           0|            1|\n",
      "|   19|        5|2015|    7| 31| 8234|      718|   1|    1|           0|            1|\n",
      "|   20|        5|2015|    7| 31| 9593|      974|   1|    1|           0|            0|\n",
      "+-----+---------+----+-----+---+-----+---------+----+-----+------------+-------------+\n",
      "only showing top 20 rows\n",
      "\n"
     ]
    }
   ],
   "source": [
    "from pyspark.sql.functions import col\n",
    "\n",
    "# Assuming 'IsHoliday' column is already in boolean datatype\n",
    "df = df.withColumn(\"StateHoliday\", col(\"StateHoliday\").cast(\"integer\"))\n",
    "\n",
    "# Show the transformed DataFrame\n",
    "df.show()"
   ]
  },
  {
   "cell_type": "code",
   "execution_count": 10,
   "id": "3ff8a903",
   "metadata": {},
   "outputs": [],
   "source": [
    "df=df.na.drop()"
   ]
  },
  {
   "cell_type": "code",
   "execution_count": 11,
   "id": "64863c54",
   "metadata": {},
   "outputs": [
    {
     "name": "stdout",
     "output_type": "stream",
     "text": [
      "root\n",
      " |-- Store: integer (nullable = true)\n",
      " |-- DayOfWeek: integer (nullable = true)\n",
      " |-- Year: integer (nullable = true)\n",
      " |-- Month: integer (nullable = true)\n",
      " |-- Day: integer (nullable = true)\n",
      " |-- Sales: integer (nullable = true)\n",
      " |-- Customers: integer (nullable = true)\n",
      " |-- Open: integer (nullable = true)\n",
      " |-- Promo: integer (nullable = true)\n",
      " |-- StateHoliday: integer (nullable = true)\n",
      " |-- SchoolHoliday: integer (nullable = true)\n",
      "\n"
     ]
    }
   ],
   "source": [
    "df.printSchema()"
   ]
  },
  {
   "cell_type": "code",
   "execution_count": 12,
   "id": "09fe8458",
   "metadata": {},
   "outputs": [
    {
     "name": "stdout",
     "output_type": "stream",
     "text": [
      "Columns in df: ['Store', 'DayOfWeek', 'Year', 'Month', 'Day', 'Sales', 'Customers', 'Open', 'Promo', 'StateHoliday', 'SchoolHoliday']\n"
     ]
    }
   ],
   "source": [
    "print(\"Columns in df:\",df.columns)"
   ]
  },
  {
   "cell_type": "markdown",
   "id": "36daa825",
   "metadata": {},
   "source": [
    "Assembler"
   ]
  },
  {
   "cell_type": "code",
   "execution_count": 13,
   "id": "f21fd12d",
   "metadata": {},
   "outputs": [
    {
     "name": "stdout",
     "output_type": "stream",
     "text": [
      "+-----+---------+----+-----+---+-----+---------+----+-----+------------+-------------+--------------------+\n",
      "|Store|DayOfWeek|Year|Month|Day|Sales|Customers|Open|Promo|StateHoliday|SchoolHoliday|            features|\n",
      "+-----+---------+----+-----+---+-----+---------+----+-----+------------+-------------+--------------------+\n",
      "|    1|        5|2015|    7| 31| 5263|      555|   1|    1|           0|            1|[1.0,5.0,2015.0,7...|\n",
      "|    2|        5|2015|    7| 31| 6064|      625|   1|    1|           0|            1|[2.0,5.0,2015.0,7...|\n",
      "|    3|        5|2015|    7| 31| 8314|      821|   1|    1|           0|            1|[3.0,5.0,2015.0,7...|\n",
      "|    4|        5|2015|    7| 31|13995|     1498|   1|    1|           0|            1|[4.0,5.0,2015.0,7...|\n",
      "|    5|        5|2015|    7| 31| 4822|      559|   1|    1|           0|            1|[5.0,5.0,2015.0,7...|\n",
      "|    6|        5|2015|    7| 31| 5651|      589|   1|    1|           0|            1|[6.0,5.0,2015.0,7...|\n",
      "|    7|        5|2015|    7| 31|15344|     1414|   1|    1|           0|            1|[7.0,5.0,2015.0,7...|\n",
      "|    8|        5|2015|    7| 31| 8492|      833|   1|    1|           0|            1|[8.0,5.0,2015.0,7...|\n",
      "|    9|        5|2015|    7| 31| 8565|      687|   1|    1|           0|            1|[9.0,5.0,2015.0,7...|\n",
      "|   10|        5|2015|    7| 31| 7185|      681|   1|    1|           0|            1|[10.0,5.0,2015.0,...|\n",
      "|   11|        5|2015|    7| 31|10457|     1236|   1|    1|           0|            1|[11.0,5.0,2015.0,...|\n",
      "|   12|        5|2015|    7| 31| 8959|      962|   1|    1|           0|            1|[12.0,5.0,2015.0,...|\n",
      "|   13|        5|2015|    7| 31| 8821|      568|   1|    1|           0|            0|[13.0,5.0,2015.0,...|\n",
      "|   14|        5|2015|    7| 31| 6544|      710|   1|    1|           0|            1|[14.0,5.0,2015.0,...|\n",
      "|   15|        5|2015|    7| 31| 9191|      766|   1|    1|           0|            1|[15.0,5.0,2015.0,...|\n",
      "|   16|        5|2015|    7| 31|10231|      979|   1|    1|           0|            1|[16.0,5.0,2015.0,...|\n",
      "|   17|        5|2015|    7| 31| 8430|      946|   1|    1|           0|            1|[17.0,5.0,2015.0,...|\n",
      "|   18|        5|2015|    7| 31|10071|      936|   1|    1|           0|            1|[18.0,5.0,2015.0,...|\n",
      "|   19|        5|2015|    7| 31| 8234|      718|   1|    1|           0|            1|[19.0,5.0,2015.0,...|\n",
      "|   20|        5|2015|    7| 31| 9593|      974|   1|    1|           0|            0|[20.0,5.0,2015.0,...|\n",
      "+-----+---------+----+-----+---+-----+---------+----+-----+------------+-------------+--------------------+\n",
      "only showing top 20 rows\n",
      "\n"
     ]
    }
   ],
   "source": [
    "from pyspark.ml.stat import Correlation\n",
    "from pyspark.ml.feature import VectorAssembler\n",
    "\n",
    "inputCols = ['Store', 'DayOfWeek', 'Year', 'Month', 'Day', 'Customers', 'Open', 'Promo', 'StateHoliday', 'SchoolHoliday']\n",
    "\n",
    "\n",
    "assembler = VectorAssembler(inputCols=inputCols, outputCol=\"features\")\n",
    "df_assembled = assembler.transform(df)\n",
    "\n",
    "df_assembled.show()\n"
   ]
  },
  {
   "cell_type": "code",
   "execution_count": null,
   "id": "8f1c7496",
   "metadata": {},
   "outputs": [],
   "source": []
  },
  {
   "cell_type": "markdown",
   "id": "80c08b87",
   "metadata": {},
   "source": [
    "Train-Test split"
   ]
  },
  {
   "cell_type": "code",
   "execution_count": 26,
   "id": "799fbd73",
   "metadata": {},
   "outputs": [],
   "source": [
    "# Split the dataset into training and testing sets\n",
    "(train, test) = df_assembled.randomSplit([0.8, 0.2], seed=42)"
   ]
  },
  {
   "cell_type": "code",
   "execution_count": null,
   "id": "c5fcd056",
   "metadata": {},
   "outputs": [],
   "source": [
    "from pyspark.ml.evaluation import RegressionEvaluator\n",
    "evaluator_rmse = RegressionEvaluator(labelCol=\"Sales\", predictionCol=\"prediction\", metricName=\"rmse\")"
   ]
  },
  {
   "cell_type": "markdown",
   "id": "5465a141",
   "metadata": {},
   "source": [
    "Multi Linear"
   ]
  },
  {
   "cell_type": "code",
   "execution_count": 31,
   "id": "e71b1e91",
   "metadata": {},
   "outputs": [
    {
     "name": "stdout",
     "output_type": "stream",
     "text": [
      "Root Mean Squared Error (RMSE) on test data: 1489.3406266338388\n",
      "Mean Absolute Error (MAE) on test data: 1000.7025310220354\n",
      "Mean Squared Error (MSE) on test data: 2218135.502142076\n",
      "R-squared (R2) on test data: 0.8438868271511973\n"
     ]
    }
   ],
   "source": [
    "from pyspark.ml.regression import LinearRegression\n",
    "from pyspark.ml.evaluation import RegressionEvaluator\n",
    "\n",
    "# Assuming 'train' and 'test' are your training and testing DataFrames\n",
    "\n",
    "# Create a Linear Regression model\n",
    "mlr = LinearRegression(featuresCol=\"features\", labelCol=\"Sales\")\n",
    "\n",
    "# Train the model\n",
    "mlr_model = mlr.fit(train)\n",
    "\n",
    "# Make predictions on the test set\n",
    "predictions = mlr_model.transform(test)\n",
    "\n",
    "# Evaluate using RMSE\n",
    "evaluator_rmse = RegressionEvaluator(labelCol=\"Sales\", predictionCol=\"prediction\", metricName=\"rmse\")\n",
    "rmse_mlr = evaluator_rmse.evaluate(predictions)\n",
    "print(f\"Root Mean Squared Error (RMSE) on test data: {rmse_mlr}\")\n",
    "\n",
    "# Evaluate using MAE\n",
    "evaluator_mae = RegressionEvaluator(labelCol=\"Sales\", predictionCol=\"prediction\", metricName=\"mae\")\n",
    "mae_mlr = evaluator_mae.evaluate(predictions)\n",
    "print(f\"Mean Absolute Error (MAE) on test data: {mae_mlr}\")\n",
    "\n",
    "# Evaluate using MSE\n",
    "evaluator_mse = RegressionEvaluator(labelCol=\"Sales\", predictionCol=\"prediction\", metricName=\"mse\")\n",
    "mse_mlr = evaluator_mse.evaluate(predictions)\n",
    "print(f\"Mean Squared Error (MSE) on test data: {mse_mlr}\")\n",
    "\n",
    "# Evaluate using R-squared (R2)\n",
    "evaluator_r2 = RegressionEvaluator(labelCol=\"Sales\", predictionCol=\"prediction\", metricName=\"r2\")\n",
    "r2_mlr = evaluator_r2.evaluate(predictions)\n",
    "print(f\"R-squared (R2) on test data: {r2_mlr}\")\n"
   ]
  },
  {
   "cell_type": "markdown",
   "id": "0c284677",
   "metadata": {},
   "source": [
    "Decision tree"
   ]
  },
  {
   "cell_type": "code",
   "execution_count": 32,
   "id": "26d1e7a4",
   "metadata": {},
   "outputs": [
    {
     "name": "stdout",
     "output_type": "stream",
     "text": [
      "Root Mean Squared Error (RMSE) on test data: 1503.2473456469463\n",
      "Mean Absolute Error (MAE) on test data: 988.5375810592664\n",
      "Mean Squared Error (MSE) on test data: 2259752.5821945895\n",
      "R-squared (R2) on test data: 0.8409578021184947\n"
     ]
    }
   ],
   "source": [
    "from pyspark.ml.regression import DecisionTreeRegressor\n",
    "from pyspark.ml.evaluation import RegressionEvaluator\n",
    "\n",
    "# Create a Decision Tree Regressor model\n",
    "dt = DecisionTreeRegressor(featuresCol=\"features\", labelCol=\"Sales\")\n",
    "\n",
    "# Train the model\n",
    "dt_model = dt.fit(train)\n",
    "\n",
    "# Make predictions on the test set\n",
    "dt_predictions = dt_model.transform(test)\n",
    "\n",
    "# Evaluate using RMSE\n",
    "evaluator_rmse_dt = RegressionEvaluator(labelCol=\"Sales\", predictionCol=\"prediction\", metricName=\"rmse\")\n",
    "rmse_dt = evaluator_rmse_dt.evaluate(dt_predictions)\n",
    "print(f\"Root Mean Squared Error (RMSE) on test data: {rmse_dt}\")\n",
    "\n",
    "# Evaluate using MAE\n",
    "evaluator_mae_dt = RegressionEvaluator(labelCol=\"Sales\", predictionCol=\"prediction\", metricName=\"mae\")\n",
    "mae_dt = evaluator_mae_dt.evaluate(dt_predictions)\n",
    "print(f\"Mean Absolute Error (MAE) on test data: {mae_dt}\")\n",
    "\n",
    "# Evaluate using MSE\n",
    "evaluator_mse_dt = RegressionEvaluator(labelCol=\"Sales\", predictionCol=\"prediction\", metricName=\"mse\")\n",
    "mse_dt = evaluator_mse_dt.evaluate(dt_predictions)\n",
    "print(f\"Mean Squared Error (MSE) on test data: {mse_dt}\")\n",
    "\n",
    "# Evaluate using R-squared (R2)\n",
    "evaluator_r2_dt = RegressionEvaluator(labelCol=\"Sales\", predictionCol=\"prediction\", metricName=\"r2\")\n",
    "r2_dt = evaluator_r2_dt.evaluate(dt_predictions)\n",
    "print(f\"R-squared (R2) on test data: {r2_dt}\")\n"
   ]
  },
  {
   "cell_type": "markdown",
   "id": "dcbc34e2",
   "metadata": {},
   "source": [
    "Gradient Booster"
   ]
  },
  {
   "cell_type": "code",
   "execution_count": 35,
   "id": "98658f91",
   "metadata": {},
   "outputs": [
    {
     "name": "stdout",
     "output_type": "stream",
     "text": [
      "Root Mean Squared Error (RMSE) on test data: 988.1540771930456\n",
      "GBT Model: GBTRegressionModel: uid=GBTRegressor_a26ae8bf9560, numTrees=100, numFeatures=10\n",
      "r2 0.9312772054585315\n"
     ]
    }
   ],
   "source": [
    "from pyspark.sql import SparkSession\n",
    "from pyspark.ml.regression import GBTRegressor\n",
    "from pyspark.ml.evaluation import RegressionEvaluator\n",
    "\n",
    "# Step 1: Create a Gradient Boosted Tree Regression model\n",
    "gbt = GBTRegressor(featuresCol=\"features\", labelCol=\"Sales\", maxIter=100,maxBins=2000)\n",
    "\n",
    "# Step 2: Fit the model to the training data\n",
    "gbt_model = gbt.fit(train)\n",
    "\n",
    "# Step 3: Make predictions on the test data\n",
    "gbt_predictions = gbt_model.transform(test)\n",
    "\n",
    "# Step 4: Evaluate the model\n",
    "evaluator = RegressionEvaluator(labelCol=\"Sales\", predictionCol=\"prediction\", metricName=\"rmse\")\n",
    "rmse_gbt = evaluator.evaluate(gbt_predictions)\n",
    "print(f\"Root Mean Squared Error (RMSE) on test data: {rmse_gbt}\")\n",
    "\n",
    "# Optionally, inspect the gradient boosted tree model\n",
    "print(f\"GBT Model: {gbt_model}\")\n",
    "\n",
    "evaluator_r2 = RegressionEvaluator(labelCol=\"Sales\", predictionCol=\"prediction\", metricName=\"r2\")\n",
    "r2_gbt = evaluator_r2.evaluate(gbt_predictions)\n",
    "\n",
    "print('r2',r2_gbt)"
   ]
  },
  {
   "cell_type": "code",
   "execution_count": 38,
   "id": "1263c8f5",
   "metadata": {},
   "outputs": [
    {
     "name": "stdout",
     "output_type": "stream",
     "text": [
      "Root Mean Squared Error (RMSE) on test data: 988.1540771930456\n",
      "r2 0.9312772054585315\n",
      "mse 976448.4802732397\n",
      "mae 704.3416421454701\n"
     ]
    }
   ],
   "source": [
    "from pyspark.sql import SparkSession\n",
    "from pyspark.ml.regression import GBTRegressor\n",
    "from pyspark.ml.evaluation import RegressionEvaluator\n",
    "\n",
    "gbt = GBTRegressor(featuresCol=\"features\", labelCol=\"Sales\", maxIter=100,maxBins=2000)\n",
    "gbt_model = gbt.fit(train)\n",
    "\n",
    "\n",
    "gbt_predictions = gbt_model.transform(test)\n",
    "\n",
    "# rmse\n",
    "evaluator = RegressionEvaluator(labelCol=\"Sales\", predictionCol=\"prediction\", metricName=\"rmse\")\n",
    "rmse_gbt = evaluator.evaluate(gbt_predictions)\n",
    "print(f\"Root Mean Squared Error (RMSE) on test data: {rmse_gbt}\")\n",
    "\n",
    "\n",
    "# r2\n",
    "evaluator_r2 = RegressionEvaluator(labelCol=\"Sales\", predictionCol=\"prediction\", metricName=\"r2\")\n",
    "r2_gbt = evaluator_r2.evaluate(gbt_predictions)\n",
    "print('r2',r2_gbt)\n",
    "\n",
    "#mse\n",
    "evaluator_mse=RegressionEvaluator(labelCol=\"Sales\", predictionCol=\"prediction\", metricName=\"mse\")\n",
    "mse_gbt=evaluator_mse.evaluate(gbt_predictions)\n",
    "print('mse',mse_gbt)\n",
    "\n",
    "#mae\n",
    "evaluator_mae=RegressionEvaluator(labelCol=\"Sales\", predictionCol=\"prediction\", metricName=\"mae\")\n",
    "mae_gbt=evaluator_mae.evaluate(gbt_predictions)\n",
    "print('mae',mae_gbt)"
   ]
  },
  {
   "cell_type": "markdown",
   "id": "8e9c9034",
   "metadata": {},
   "source": [
    "Random Forest"
   ]
  },
  {
   "cell_type": "code",
   "execution_count": 33,
   "id": "e7b8862e",
   "metadata": {},
   "outputs": [
    {
     "name": "stdout",
     "output_type": "stream",
     "text": [
      "Root Mean Squared Error (RMSE) on test data: 1517.95268802648\n",
      "Mean Absolute Error (MAE) on test data: 1002.1699861597693\n",
      "Mean Squared Error (MSE) on test data: 2304180.363086816\n",
      "R-squared (R2) on test data: 0.8378309589517816\n"
     ]
    }
   ],
   "source": [
    "from pyspark.ml.regression import RandomForestRegressor\n",
    "from pyspark.ml.evaluation import RegressionEvaluator\n",
    "\n",
    "# Create a Random Forest Regressor model\n",
    "rf = RandomForestRegressor(featuresCol=\"features\", labelCol=\"Sales\")\n",
    "\n",
    "# Train the model\n",
    "rf_model = rf.fit(train)\n",
    "\n",
    "# Make predictions on the test set\n",
    "rf_predictions = rf_model.transform(test)\n",
    "\n",
    "# Evaluate using RMSE\n",
    "evaluator_rmse_rf = RegressionEvaluator(labelCol=\"Sales\", predictionCol=\"prediction\", metricName=\"rmse\")\n",
    "rmse_rf = evaluator_rmse_rf.evaluate(rf_predictions)\n",
    "print(f\"Root Mean Squared Error (RMSE) on test data: {rmse_rf}\")\n",
    "\n",
    "# Evaluate using MAE\n",
    "evaluator_mae_rf = RegressionEvaluator(labelCol=\"Sales\", predictionCol=\"prediction\", metricName=\"mae\")\n",
    "mae_rf = evaluator_mae_rf.evaluate(rf_predictions)\n",
    "print(f\"Mean Absolute Error (MAE) on test data: {mae_rf}\")\n",
    "\n",
    "# Evaluate using MSE\n",
    "evaluator_mse_rf = RegressionEvaluator(labelCol=\"Sales\", predictionCol=\"prediction\", metricName=\"mse\")\n",
    "mse_rf = evaluator_mse_rf.evaluate(rf_predictions)\n",
    "print(f\"Mean Squared Error (MSE) on test data: {mse_rf}\")\n",
    "\n",
    "# Evaluate using R-squared (R2)\n",
    "evaluator_r2_rf = RegressionEvaluator(labelCol=\"Sales\", predictionCol=\"prediction\", metricName=\"r2\")\n",
    "r2_rf = evaluator_r2_rf.evaluate(rf_predictions)\n",
    "print(f\"R-squared (R2) on test data: {r2_rf}\")\n"
   ]
  },
  {
   "cell_type": "markdown",
   "id": "edb7964f",
   "metadata": {},
   "source": [
    "Isotonic\n"
   ]
  },
  {
   "cell_type": "code",
   "execution_count": 37,
   "id": "2716988a",
   "metadata": {},
   "outputs": [
    {
     "name": "stdout",
     "output_type": "stream",
     "text": [
      "Root Mean Squared Error (RMSE) on test data: 3757.9192498499856\n",
      "Mean Absolute Error (MAE) on test data: 2794.343119233413\n",
      "Mean Squared Error (MSE) on test data: 14121957.08839308\n",
      "R-squared (R2) on test data: 0.00609159098952472\n"
     ]
    }
   ],
   "source": [
    "from pyspark.ml.regression import IsotonicRegression\n",
    "from pyspark.ml.evaluation import RegressionEvaluator\n",
    "\n",
    "# Create an Isotonic Regressor model\n",
    "iso = IsotonicRegression(featuresCol=\"features\", labelCol=\"Sales\")\n",
    "\n",
    "# Train the model\n",
    "iso_model = iso.fit(train)\n",
    "\n",
    "# Make predictions on the test set\n",
    "iso_predictions = iso_model.transform(test)\n",
    "\n",
    "# Evaluate using RMSE\n",
    "evaluator_rmse_iso = RegressionEvaluator(labelCol=\"Sales\", predictionCol=\"prediction\", metricName=\"rmse\")\n",
    "rmse_iso = evaluator_rmse_iso.evaluate(iso_predictions)\n",
    "print(f\"Root Mean Squared Error (RMSE) on test data: {rmse_iso}\")\n",
    "\n",
    "# Evaluate using MAE\n",
    "evaluator_mae_iso = RegressionEvaluator(labelCol=\"Sales\", predictionCol=\"prediction\", metricName=\"mae\")\n",
    "mae_iso = evaluator_mae_iso.evaluate(iso_predictions)\n",
    "print(f\"Mean Absolute Error (MAE) on test data: {mae_iso}\")\n",
    "\n",
    "# Evaluate using MSE\n",
    "evaluator_mse_iso = RegressionEvaluator(labelCol=\"Sales\", predictionCol=\"prediction\", metricName=\"mse\")\n",
    "mse_iso = evaluator_mse_iso.evaluate(iso_predictions)\n",
    "print(f\"Mean Squared Error (MSE) on test data: {mse_iso}\")\n",
    "\n",
    "# Evaluate using R-squared (R2)\n",
    "evaluator_r2_iso = RegressionEvaluator(labelCol=\"Sales\", predictionCol=\"prediction\", metricName=\"r2\")\n",
    "r2_iso = evaluator_r2_iso.evaluate(iso_predictions)\n",
    "print(f\"R-squared (R2) on test data: {r2_iso}\")\n"
   ]
  },
  {
   "cell_type": "code",
   "execution_count": null,
   "id": "cc455a50",
   "metadata": {},
   "outputs": [],
   "source": [
    "import pandas as pd\n",
    "import matplotlib.pyplot as plt\n",
    "from pyspark.sql import SparkSession"
   ]
  },
  {
   "cell_type": "code",
   "execution_count": null,
   "id": "4db3251c",
   "metadata": {},
   "outputs": [],
   "source": []
  },
  {
   "cell_type": "code",
   "execution_count": 101,
   "id": "9f33a3cc",
   "metadata": {},
   "outputs": [
    {
     "data": {
      "image/png": "[encoded data removed]",
      "text/plain": [
       "<Figure size 640x480 with 1 Axes>"
      ]
     },
     "metadata": {},
     "output_type": "display_data"
    }
   ],
   "source": [
    "import pandas as pd\n",
    "import matplotlib.pyplot as plt\n",
    "from pyspark.sql import SparkSession\n",
    "\n",
    "# Assuming \"Sales\" is your target variable\n",
    "actual_values = test.select(\"Sales\").collect()\n",
    "\n",
    "plt.scatter([float(val.Sales) for val in actual_values], predictions_rf.select(\"prediction\").collect())\n",
    "plt.xlabel('Actual')\n",
    "plt.ylabel('Predicted')\n",
    "plt.show()\n"
   ]
  },
  {
   "cell_type": "code",
   "execution_count": null,
   "id": "ac58275f",
   "metadata": {},
   "outputs": [],
   "source": []
  },
  {
   "cell_type": "code",
   "execution_count": 42,
   "id": "ac7748df",
   "metadata": {},
   "outputs": [
    {
     "data": {
      "text/plain": [
       "[0.8438868271511973,\n",
       " 0.8011843673647303,\n",
       " 0.9312772054585315,\n",
       " 0.8249719046547309,\n",
       " 0.00609159098952472]"
      ]
     },
     "execution_count": 42,
     "metadata": {},
     "output_type": "execute_result"
    }
   ],
   "source": [
    "r2_values = []\n",
    "r2_values.append(r2_mlr)\n",
    "r2_values.append(r2_dt)\n",
    "r2_values.append(r2_gbt)\n",
    "r2_values.append(r2_rf)\n",
    "r2_values.append(r2_iso)\n",
    "r2_values"
   ]
  },
  {
   "cell_type": "code",
   "execution_count": 44,
   "id": "edee53b7",
   "metadata": {},
   "outputs": [
    {
     "data": {
      "image/png": "[encoded data removed]",
      "text/plain": [
       "<Figure size 1000x600 with 1 Axes>"
      ]
     },
     "metadata": {},
     "output_type": "display_data"
    }
   ],
   "source": [
    "model_names = ['Linear Regression', 'Decision Tree','Gradient Boosting','Random Forest', 'Isotonic Regression']\n",
    "plt.figure(figsize=(10, 6))\n",
    "plt.bar(model_names, r2_values, color=['blue', 'green', 'red', 'purple', 'orange'])\n",
    "plt.xlabel('Regression Models')\n",
    "plt.ylabel('R-squared Value')\n",
    "plt.title('R-squared Values of Regression Models')\n",
    "plt.ylim(0, 1)  \n",
    "plt.show()"
   ]
  },
  {
   "cell_type": "code",
   "execution_count": null,
   "id": "5b69e067",
   "metadata": {},
   "outputs": [],
   "source": []
  }
 ],
 "metadata": {
  "kernelspec": {
   "display_name": "Python 3 (ipykernel)",
   "language": "python",
   "name": "python3"
  },
  "language_info": {
   "codemirror_mode": {
    "name": "ipython",
    "version": 3
   },
   "file_extension": ".py",
   "mimetype": "text/x-python",
   "name": "python",
   "nbconvert_exporter": "python",
   "pygments_lexer": "ipython3",
   "version": "3.9.12"
  }
 },
 "nbformat": 4,
 "nbformat_minor": 5
}
